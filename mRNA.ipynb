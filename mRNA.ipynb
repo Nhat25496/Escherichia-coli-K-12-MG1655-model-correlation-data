{
  "nbformat": 4,
  "nbformat_minor": 0,
  "metadata": {
    "colab": {
      "name": "mRNA.ipynb",
      "provenance": [],
      "collapsed_sections": [],
      "mount_file_id": "1iVzi1u7cvgBU-5e-w0QC7ri7hjXH2RwI",
      "authorship_tag": "ABX9TyOWZ5N4qsSWpyB8WSu65vSD",
      "include_colab_link": true
    },
    "kernelspec": {
      "name": "python3",
      "display_name": "Python 3"
    }
  },
  "cells": [
    {
      "cell_type": "markdown",
      "metadata": {
        "id": "view-in-github",
        "colab_type": "text"
      },
      "source": [
        "<a href=\"https://colab.research.google.com/github/Nhat25496/Nhat25496/blob/Transim/mRNA.ipynb\" target=\"_parent\"><img src=\"https://colab.research.google.com/assets/colab-badge.svg\" alt=\"Open In Colab\"/></a>"
      ]
    },
    {
      "cell_type": "code",
      "metadata": {
        "id": "nAEwLMTdr5km"
      },
      "source": [
        "import pandas as pd\n",
        "import numpy as np\n",
        "import matplotlib.pyplot as plt\n",
        "import seaborn as sns\n",
        "from scipy import stats"
      ],
      "execution_count": 1,
      "outputs": []
    },
    {
      "cell_type": "code",
      "metadata": {
        "id": "5RNDf-IBsdOW"
      },
      "source": [
        "df=pd.read_csv('https://raw.githubusercontent.com/Nhat25496/Nhat25496/Transim/raw_1661_data_1.csv')\n",
        "df_ML=pd.read_csv('https://raw.githubusercontent.com/Nhat25496/Nhat25496/Transim/new_data_ver1.csv')"
      ],
      "execution_count": 2,
      "outputs": []
    },
    {
      "cell_type": "code",
      "metadata": {
        "colab": {
          "base_uri": "https://localhost:8080/"
        },
        "id": "_tBbDR2OXKWc",
        "outputId": "ff4e9114-b61e-403e-d9b2-7ada122b3099"
      },
      "source": [
        "print(df.head())\n",
        "#print(df.loc[:,['uAUG','pro/micro']])"
      ],
      "execution_count": null,
      "outputs": [
        {
          "output_type": "stream",
          "text": [
            "    Name Start Stop  5UTR length  ... pro/micro  Protein    Col1    Col2\n",
            "0  b0008   ATG  TAA           47  ...  2.124338  1591.00    72.0   700.0\n",
            "1  b0014   ATG  TAA           19  ...  2.331224  2657.00    26.0   130.0\n",
            "2  b0019   GTG  TGA           31  ... -0.207450     3.98  1127.0  1276.0\n",
            "3  b0023   TTG  TAA          132  ...  2.051501  1190.00   107.0    35.0\n",
            "4  b0025   ATG  TAA           24  ...  0.371540    22.20   870.0  1053.0\n",
            "\n",
            "[5 rows x 23 columns]\n"
          ],
          "name": "stdout"
        }
      ]
    },
    {
      "cell_type": "code",
      "metadata": {
        "id": "tQqMPqrtgjjq"
      },
      "source": [
        "def annotate_p(col1, col2, y, height, text):\n",
        "  plt.plot([col1, col1, col2, col2],[y, y+height, y+height, y], lw=1, c='black')\n",
        "  plt.text((col1+col2)*0.5, y+height, text, ha='center', va='bottom')\n",
        "  return"
      ],
      "execution_count": null,
      "outputs": []
    },
    {
      "cell_type": "code",
      "metadata": {
        "colab": {
          "base_uri": "https://localhost:8080/"
        },
        "id": "IxMgsK69mb9b",
        "outputId": "1627aba5-9e1b-4987-b4a3-640972f2a05e"
      },
      "source": [
        "print(df[['uAUG', 'Start', 'Stop', 'Half-life', 'Type']])\n",
        "category_lst=pd.melt(df[['uAUG', 'Start', 'Stop', 'Half-life', 'Type']])\n",
        "print(category_lst)"
      ],
      "execution_count": null,
      "outputs": [
        {
          "output_type": "stream",
          "text": [
            "          uAUG Start Stop Half-life        Type\n",
            "0         free   ATG  TAA   10hours  first gene\n",
            "1         free   ATG  TAA   10hours  first gene\n",
            "2         free   GTG  TGA      2min  first gene\n",
            "3         free   TTG  TAA   10hours  first gene\n",
            "4         free   ATG  TAA      2min  first gene\n",
            "...        ...   ...  ...       ...         ...\n",
            "1655  outframe   GTG  TGA   10hours   in operon\n",
            "1656      free   ATG  TAA   10hours   in operon\n",
            "1657      free   ATG  TGA      2min   in operon\n",
            "1658      free   ATG  TAA      2min   in operon\n",
            "1659      free   ATG  TAA   10hours   in operon\n",
            "\n",
            "[1660 rows x 5 columns]\n",
            "     variable      value\n",
            "0        uAUG       free\n",
            "1        uAUG       free\n",
            "2        uAUG       free\n",
            "3        uAUG       free\n",
            "4        uAUG       free\n",
            "...       ...        ...\n",
            "8295     Type  in operon\n",
            "8296     Type  in operon\n",
            "8297     Type  in operon\n",
            "8298     Type  in operon\n",
            "8299     Type  in operon\n",
            "\n",
            "[8300 rows x 2 columns]\n"
          ],
          "name": "stdout"
        }
      ]
    },
    {
      "cell_type": "code",
      "metadata": {
        "id": "Xu6KlYsjnHOc"
      },
      "source": [
        "def category_sep(cond_column, cat_lst):\n",
        "  return [df.loc[df[cond_column]==tag, ['pro/micro']] for tag in cat_lst]\n",
        "def ttest_lst(column_lst, name_lst):\n",
        "  print(name_lst)\n",
        "  result_lst=[]\n",
        "  for i in range(len(column_lst)):\n",
        "    j=i+1\n",
        "    while j<len(column_lst):\n",
        "      result=stats.ttest_ind(column_lst[i], column_lst[j])\n",
        "      print('%s-%s p-value two-tail=%s p-value one-tails=%s' %(name_lst[i], name_lst[j], result[1][0], result[1][0]/2))\n",
        "      result_lst.append(result[1][0])\n",
        "      j+=1\n",
        "  return\n"
      ],
      "execution_count": null,
      "outputs": []
    },
    {
      "cell_type": "code",
      "metadata": {
        "colab": {
          "base_uri": "https://localhost:8080/"
        },
        "id": "Ejb-sBRFnX1X",
        "outputId": "fa84d55a-2e62-4f01-fb03-33f6a247ade2"
      },
      "source": [
        "#Ttest start\n",
        "lst=['ATG', 'GTG', 'TTG']\n",
        "start_lst=category_sep('Start', lst)\n",
        "print([len(column) for column in start_lst])\n",
        "ttest_lst(start_lst, lst)\n",
        "\n",
        "print('ATG-GTG', stats.ttest_ind(start_lst[0], start_lst[1])[1][0]/2)\n",
        "\n",
        "\n",
        "\n"
      ],
      "execution_count": null,
      "outputs": [
        {
          "output_type": "stream",
          "text": [
            "[1491, 136, 33]\n",
            "['ATG', 'GTG', 'TTG']\n",
            "ATG-GTG p-value one-tail=0.028436530075415977 p-value two-tails=0.014218265037707989\n",
            "ATG-TTG p-value one-tail=0.08131965124633578 p-value two-tails=0.04065982562316789\n",
            "GTG-TTG p-value one-tail=0.5635813187213623 p-value two-tails=0.28179065936068115\n",
            "ATG-GTG 0.014218265037707989\n"
          ],
          "name": "stdout"
        }
      ]
    },
    {
      "cell_type": "code",
      "metadata": {
        "colab": {
          "base_uri": "https://localhost:8080/",
          "height": 282
        },
        "id": "XOXef9ufshcP",
        "outputId": "6d346138-bc99-4478-99c9-271434e1a3e1"
      },
      "source": [
        "#Start plot\n",
        "category_lst=pd.melt(df[['uAUG', 'Start', 'Stop', 'Half-life', 'Type']])\n",
        "ax = sns.boxplot(x='Start', y='pro/micro',data=df)\n",
        "#ax1 = sns.boxplot(x='Start', y='pro/micro',data=df)\n",
        "# statistical annotation\n",
        "x1, x2 = 1, 2   # columns 'Sat' and 'Sun' (first column: 0, see plt.xticks())\n",
        "y, h, col = df['pro/micro'].max(), 1, 'k'\n",
        "\n",
        "annotate_p(0, 1, df['pro/micro'].max()+0.5, 0.5, '**')\n",
        "annotate_p(0, 2, df['pro/micro'].max()+2.5, 0.5, '**')\n",
        "annotate_p(1, 2, df['pro/micro'].max()+1.5, 0.5, 'ns')\n",
        "\n",
        "\n",
        "plt.show(ax)"
      ],
      "execution_count": null,
      "outputs": [
        {
          "output_type": "display_data",
          "data": {
            "image/png": "[encoded data removed]",
            "text/plain": [
              "<Figure size 432x288 with 1 Axes>"
            ]
          },
          "metadata": {
            "tags": [],
            "needs_background": "light"
          }
        }
      ]
    },
    {
      "cell_type": "code",
      "metadata": {
        "id": "iegimyvsRI0-",
        "colab": {
          "base_uri": "https://localhost:8080/",
          "height": 383
        },
        "outputId": "9a49c826-cbec-4e85-87ff-2e942516734e"
      },
      "source": [
        "#ttest uAUG\n",
        "\n",
        "uAUG_lst=category_sep('uAUG', ['free', 'inframe', 'outframe'])\n",
        "print(len(uAUG_lst[0]))\n",
        "\n",
        "result= ttest_lst(uAUG_lst, ['free', 'inframe', 'outframe'])\n",
        "#print('free-outframe: ',stats.ttest_ind(uAUG_lst[0], uAUG_lst[2])[1])\n",
        "print(result)\n",
        "ax = sns.boxplot(x='uAUG', y='pro/micro',data=df)\n",
        "annotate_p(0, 1, df['pro/micro'].max()+0.5, 0.5, '**')\n",
        "annotate_p(0, 2, df['pro/micro'].max()+2.5, 0.5, 'ns')\n",
        "annotate_p(1, 2, df['pro/micro'].max()+1.5, 0.5, '*')"
      ],
      "execution_count": null,
      "outputs": [
        {
          "output_type": "stream",
          "text": [
            "1509\n",
            "['free', 'inframe', 'outframe']\n",
            "free-inframe p-value one-tail=0.4344879187941 p-value two-tails=0.21724395939705\n",
            "free-outframe p-value one-tail=0.08773226803781764 p-value two-tails=0.04386613401890882\n",
            "inframe-outframe p-value one-tail=0.10557931562667575 p-value two-tails=0.05278965781333787\n",
            "None\n"
          ],
          "name": "stdout"
        },
        {
          "output_type": "display_data",
          "data": {
            "image/png": "[encoded data removed]",
            "text/plain": [
              "<Figure size 432x288 with 1 Axes>"
            ]
          },
          "metadata": {
            "tags": [],
            "needs_background": "light"
          }
        }
      ]
    },
    {
      "cell_type": "code",
      "metadata": {
        "colab": {
          "base_uri": "https://localhost:8080/"
        },
        "id": "5BgHAya2V-Cc",
        "outputId": "463d191f-925a-4bda-98ce-ab4872c8bf5c"
      },
      "source": [
        "#ttest Stop\n",
        "lst=['TAA', 'TGA', 'TAG']\n",
        "stop_list=category_sep('Stop', lst)\n",
        "ttest_lst(stop_list, lst)\n",
        "print([len(column) for column in stop_list])"
      ],
      "execution_count": null,
      "outputs": [
        {
          "output_type": "stream",
          "text": [
            "['TAA', 'TGA', 'TAG']\n",
            "TAA-TGA p-value two-tail=1.9281601357529837e-09 p-value one-tails=9.640800678764919e-10\n",
            "TAA-TAG p-value two-tail=5.923190531508954e-08 p-value one-tails=2.961595265754477e-08\n",
            "TGA-TAG p-value two-tail=0.021089709718375312 p-value one-tails=0.010544854859187656\n",
            "[1157, 420, 83]\n"
          ],
          "name": "stdout"
        }
      ]
    },
    {
      "cell_type": "code",
      "metadata": {
        "colab": {
          "base_uri": "https://localhost:8080/",
          "height": 282
        },
        "id": "JgCWPZq2OrV1",
        "outputId": "1fb9a006-df29-413b-941f-19a68ff85a6e"
      },
      "source": [
        "#boxplot\n",
        "category_lst=pd.melt(df[['Stop', 'Start', 'Stop', 'Half-life', 'Type']])\n",
        "ax = sns.boxplot(x='Stop', y='pro/micro',data=df)\n",
        "#ax1 = sns.boxplot(x='Start', y='pro/micro',data=df)\n",
        "# statistical annotation\n",
        "x1, x2 = 1, 2   # columns 'Sat' and 'Sun' (first column: 0, see plt.xticks())\n",
        "y, h, col = df['pro/micro'].max(), 1, 'k'\n",
        "\n",
        "annotate_p(0, 1, df['pro/micro'].max()+0.5, 0.5, '***')\n",
        "annotate_p(0, 2, df['pro/micro'].max()+2.5, 0.5, '***')\n",
        "annotate_p(1, 2, df['pro/micro'].max()+1.5, 0.5, '**')\n",
        "\n",
        "\n",
        "plt.show(ax)"
      ],
      "execution_count": null,
      "outputs": [
        {
          "output_type": "display_data",
          "data": {
            "image/png": "[encoded data removed]",
            "text/plain": [
              "<Figure size 432x288 with 1 Axes>"
            ]
          },
          "metadata": {
            "tags": [],
            "needs_background": "light"
          }
        }
      ]
    },
    {
      "cell_type": "code",
      "metadata": {
        "id": "HKFXx5ck0Vqw",
        "colab": {
          "base_uri": "https://localhost:8080/"
        },
        "outputId": "fd9129ca-a4c6-416c-ec30-f797cbd0fa6c"
      },
      "source": [
        "subset=df_ML.loc[:,['predicted_pro/micro','pro/micro']]\n",
        "stats.spearmanr(subset)\n"
      ],
      "execution_count": null,
      "outputs": [
        {
          "output_type": "execute_result",
          "data": {
            "text/plain": [
              "SpearmanrResult(correlation=0.6535718145325996, pvalue=7.73597513277922e-203)"
            ]
          },
          "metadata": {
            "tags": []
          },
          "execution_count": 6
        }
      ]
    },
    {
      "cell_type": "code",
      "metadata": {
        "id": "bBHkDyPrMVaU",
        "colab": {
          "base_uri": "https://localhost:8080/",
          "height": 296
        },
        "outputId": "073f27e3-288f-428b-f37d-7e536cc6df7f"
      },
      "source": [
        "lst=['first gene', 'in operon']\n",
        "type_list=category_sep('Type', lst)\n",
        "print(stats.ttest_ind(type_list[0], type_list[1]))\n",
        "ax = sns.boxplot(x='Type', y='pro/micro', data=df).set(xlabel=['A', 'B'])\n",
        "annotate_p(0, 1, df['pro/micro'].max()+0.5, 0.5, '**')"
      ],
      "execution_count": null,
      "outputs": [
        {
          "output_type": "stream",
          "text": [
            "Ttest_indResult(statistic=array([3.76670841]), pvalue=array([0.00017119]))\n"
          ],
          "name": "stdout"
        },
        {
          "output_type": "display_data",
          "data": {
            "image/png": "[encoded data removed]",
            "text/plain": [
              "<Figure size 432x288 with 1 Axes>"
            ]
          },
          "metadata": {
            "tags": [],
            "needs_background": "light"
          }
        }
      ]
    },
    {
      "cell_type": "code",
      "metadata": {
        "id": "avl3rLVKSa8r",
        "colab": {
          "base_uri": "https://localhost:8080/",
          "height": 296
        },
        "outputId": "e4aa6bf9-f552-4346-94f1-35e4b1e904e0"
      },
      "source": [
        "lst=['2min', '10hours']\n",
        "type_list=category_sep('Half-life', lst)\n",
        "print(stats.ttest_ind(type_list[0], type_list[1]))\n",
        "ax = sns.boxplot(x='Half-life', y='pro/micro',data=df)\n",
        "annotate_p(0, 1, df['pro/micro'].max()+0.5, 0.5, '**')"
      ],
      "execution_count": null,
      "outputs": [
        {
          "output_type": "stream",
          "text": [
            "Ttest_indResult(statistic=array([-3.43107036]), pvalue=array([0.00061596]))\n"
          ],
          "name": "stdout"
        },
        {
          "output_type": "display_data",
          "data": {
            "image/png": "[encoded data removed]",
            "text/plain": [
              "<Figure size 432x288 with 1 Axes>"
            ]
          },
          "metadata": {
            "tags": [],
            "needs_background": "light"
          }
        }
      ]
    },
    {
      "cell_type": "code",
      "metadata": {
        "id": "wTl8_o_4Z-Rr"
      },
      "source": [
        ""
      ],
      "execution_count": null,
      "outputs": []
    }
  ]
}